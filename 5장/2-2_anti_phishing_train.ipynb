{
 "cells": [
  {
   "cell_type": "code",
   "execution_count": null,
   "metadata": {
    "colab": {
     "base_uri": "https://localhost:8080/"
    },
    "executionInfo": {
     "elapsed": 17850,
     "status": "ok",
     "timestamp": 1726484147927,
     "user": {
      "displayName": "j j",
      "userId": "04909968638014779184"
     },
     "user_tz": -540
    },
    "id": "GkjXQV2stECg",
    "outputId": "8a2ba7ad-794d-4423-86d1-e59447e20437"
   },
   "outputs": [
    {
     "name": "stdout",
     "output_type": "stream",
     "text": [
      "Collecting openai\n",
      "  Downloading openai-1.45.0-py3-none-any.whl.metadata (22 kB)\n",
      "Requirement already satisfied: anyio<5,>=3.5.0 in /usr/local/lib/python3.10/dist-packages (from openai) (3.7.1)\n",
      "Requirement already satisfied: distro<2,>=1.7.0 in /usr/lib/python3/dist-packages (from openai) (1.7.0)\n",
      "Collecting httpx<1,>=0.23.0 (from openai)\n",
      "  Downloading httpx-0.27.2-py3-none-any.whl.metadata (7.1 kB)\n",
      "Collecting jiter<1,>=0.4.0 (from openai)\n",
      "  Downloading jiter-0.5.0-cp310-cp310-manylinux_2_17_x86_64.manylinux2014_x86_64.whl.metadata (3.6 kB)\n",
      "Requirement already satisfied: pydantic<3,>=1.9.0 in /usr/local/lib/python3.10/dist-packages (from openai) (2.9.1)\n",
      "Requirement already satisfied: sniffio in /usr/local/lib/python3.10/dist-packages (from openai) (1.3.1)\n",
      "Requirement already satisfied: tqdm>4 in /usr/local/lib/python3.10/dist-packages (from openai) (4.66.5)\n",
      "Requirement already satisfied: typing-extensions<5,>=4.11 in /usr/local/lib/python3.10/dist-packages (from openai) (4.12.2)\n",
      "Requirement already satisfied: idna>=2.8 in /usr/local/lib/python3.10/dist-packages (from anyio<5,>=3.5.0->openai) (3.8)\n",
      "Requirement already satisfied: exceptiongroup in /usr/local/lib/python3.10/dist-packages (from anyio<5,>=3.5.0->openai) (1.2.2)\n",
      "Requirement already satisfied: certifi in /usr/local/lib/python3.10/dist-packages (from httpx<1,>=0.23.0->openai) (2024.8.30)\n",
      "Collecting httpcore==1.* (from httpx<1,>=0.23.0->openai)\n",
      "  Downloading httpcore-1.0.5-py3-none-any.whl.metadata (20 kB)\n",
      "Collecting h11<0.15,>=0.13 (from httpcore==1.*->httpx<1,>=0.23.0->openai)\n",
      "  Downloading h11-0.14.0-py3-none-any.whl.metadata (8.2 kB)\n",
      "Requirement already satisfied: annotated-types>=0.6.0 in /usr/local/lib/python3.10/dist-packages (from pydantic<3,>=1.9.0->openai) (0.7.0)\n",
      "Requirement already satisfied: pydantic-core==2.23.3 in /usr/local/lib/python3.10/dist-packages (from pydantic<3,>=1.9.0->openai) (2.23.3)\n",
      "Downloading openai-1.45.0-py3-none-any.whl (374 kB)\n",
      "\u001b[2K   \u001b[90m━━━━━━━━━━━━━━━━━━━━━━━━━━━━━━━━━━━━━━━━\u001b[0m \u001b[32m374.1/374.1 kB\u001b[0m \u001b[31m11.3 MB/s\u001b[0m eta \u001b[36m0:00:00\u001b[0m\n",
      "\u001b[?25hDownloading httpx-0.27.2-py3-none-any.whl (76 kB)\n",
      "\u001b[2K   \u001b[90m━━━━━━━━━━━━━━━━━━━━━━━━━━━━━━━━━━━━━━━━\u001b[0m \u001b[32m76.4/76.4 kB\u001b[0m \u001b[31m2.4 MB/s\u001b[0m eta \u001b[36m0:00:00\u001b[0m\n",
      "\u001b[?25hDownloading httpcore-1.0.5-py3-none-any.whl (77 kB)\n",
      "\u001b[2K   \u001b[90m━━━━━━━━━━━━━━━━━━━━━━━━━━━━━━━━━━━━━━━━\u001b[0m \u001b[32m77.9/77.9 kB\u001b[0m \u001b[31m4.2 MB/s\u001b[0m eta \u001b[36m0:00:00\u001b[0m\n",
      "\u001b[?25hDownloading jiter-0.5.0-cp310-cp310-manylinux_2_17_x86_64.manylinux2014_x86_64.whl (318 kB)\n",
      "\u001b[2K   \u001b[90m━━━━━━━━━━━━━━━━━━━━━━━━━━━━━━━━━━━━━━━━\u001b[0m \u001b[32m318.9/318.9 kB\u001b[0m \u001b[31m15.5 MB/s\u001b[0m eta \u001b[36m0:00:00\u001b[0m\n",
      "\u001b[?25hDownloading h11-0.14.0-py3-none-any.whl (58 kB)\n",
      "\u001b[2K   \u001b[90m━━━━━━━━━━━━━━━━━━━━━━━━━━━━━━━━━━━━━━━━\u001b[0m \u001b[32m58.3/58.3 kB\u001b[0m \u001b[31m2.5 MB/s\u001b[0m eta \u001b[36m0:00:00\u001b[0m\n",
      "\u001b[?25hInstalling collected packages: jiter, h11, httpcore, httpx, openai\n",
      "Successfully installed h11-0.14.0 httpcore-1.0.5 httpx-0.27.2 jiter-0.5.0 openai-1.45.0\n",
      "Downloading Grit CLI from https://github.com/getgrit/gritql/releases/latest/download/marzano-x86_64-unknown-linux-gnu.tar.gz\n",
      "\n",
      "\u001b[2K\u001b[1A\n",
      "\u001b[2K\u001b[1A\n",
      "\u001b[1m\u001b[2mAnalyzing\u001b[0m \u001b[1m\u001b[2mFinding files                                                         \u001b[0m\n",
      "\u001b[2K\u001b[2AProcessed 0 files and found 0 matches\n"
     ]
    }
   ],
   "source": [
    "!pip install openai\n",
    "!openai migrate"
   ]
  },
  {
   "cell_type": "code",
   "execution_count": null,
   "metadata": {
    "colab": {
     "base_uri": "https://localhost:8080/"
    },
    "executionInfo": {
     "elapsed": 1986,
     "status": "ok",
     "timestamp": 1726484149910,
     "user": {
      "displayName": "j j",
      "userId": "04909968638014779184"
     },
     "user_tz": -540
    },
    "id": "krCauzERvEnB",
    "outputId": "0f7bfe0e-fc41-417b-84f8-b615d05e67da"
   },
   "outputs": [
    {
     "data": {
      "text/plain": [
       "<openai.OpenAI at 0x7c22162cabc0>"
      ]
     },
     "execution_count": 2,
     "metadata": {},
     "output_type": "execute_result"
    }
   ],
   "source": [
    "from openai import OpenAI\n",
    "from IPython.display import Image, display, HTML\n",
    "\n",
    "from email.mime.multipart import MIMEMultipart\n",
    "from email.mime.text import MIMEText\n",
    "from email.mime.image import MIMEImage\n",
    "import smtplib\n",
    "import requests\n",
    "from io import BytesIO\n",
    "import os\n",
    "\n",
    "client = OpenAI(\n",
    "  api_key= '여기에 OpenAI API 키를 입력해주세요.',\n",
    ")\n",
    "\n",
    "client"
   ]
  },
  {
   "cell_type": "code",
   "execution_count": null,
   "metadata": {
    "colab": {
     "base_uri": "https://localhost:8080/"
    },
    "executionInfo": {
     "elapsed": 6213,
     "status": "ok",
     "timestamp": 1726484156121,
     "user": {
      "displayName": "j j",
      "userId": "04909968638014779184"
     },
     "user_tz": -540
    },
    "id": "l-9l-8UoSZHU",
    "outputId": "4c2e32ea-d7e2-4d58-e7b6-13ad45b7fcf0"
   },
   "outputs": [
    {
     "name": "stdout",
     "output_type": "stream",
     "text": [
      "제목: 유럽 여행을 더 싸게! 여름 투어 패키지 프로모션 세일 중 🌍☀️\n",
      "\n",
      "안녕하세요,\n",
      "\n",
      "여름 투어 시즌이 다가오고 있습니다! 당신의 꿈꾸던 유럽 여행, 이제 더 싸게 즐기세요! 유럽 여행사와 함께하는 여름 투어 패키지 프로모션 세일이 시작되었습니다.\n",
      "\n",
      "이번 여행은 특별합니다. 세계 유명 도시를 투어할 수 있는 기회를 절대 놓치지 마세요. 투어 패키지 예약 시 특별 할인 혜택을 누리실 수 있습니다.\n",
      "\n",
      "프로모션 세일 기간: 6월 1일부터 6월 30일까지\n",
      "대상 여행 지역: 프랑스, 이탈리아, 스페인, 독일 등\n",
      "할인 혜택: 최대 20% 할인 및 추가 혜택 제공\n",
      "\n",
      "당신을 위한 최고의 여름 휴가를 계획하세요! 지금 바로 예약하시면 더 많은 혜택을 누리실 수 있습니다.\n",
      "\n",
      "자세한 정보 및 예약은 아래 링크를 확인해주세요.\n",
      "\n",
      "링크: www.europeantourpackages.com/summer-promo\n",
      "\n",
      "이번 여름, 유럽 여행이 더욱 특별해질 것입니다. 지금 예약하세요!\n",
      "\n",
      "감사합니다.\n",
      "\n",
      "유럽 여행사 드림\n",
      "\n",
      "---\n",
      "이 이메일은 광고성 내용을 포함하고 있습니다. 혹시 더 이상 이메일을 받고 싶지 않으시다면 수신 거부를 눌러주시길 바랍니다.\n"
     ]
    }
   ],
   "source": [
    "# ChatGPT를 사용해 이메일 텍스트 생성\n",
    "def generate_email_text(prompt):\n",
    "    response = client.chat.completions.create(\n",
    "        model=\"gpt-3.5-turbo\",\n",
    "        messages=[{\n",
    "            \"role\": \"user\",\n",
    "            \"content\": prompt\n",
    "            }]\n",
    "    )\n",
    "    return response\n",
    "\n",
    "email_obj = generate_email_text(\"유럽 투어 패키지 여름 프로모션 세일 홍보 이메일을 작성해줘\")\n",
    "email_txt = email_obj.choices[0].message.content\n",
    "\n",
    "# 생성된 텍스트와 이미지 URL 출력\n",
    "print(email_txt)"
   ]
  },
  {
   "cell_type": "code",
   "execution_count": null,
   "metadata": {
    "colab": {
     "base_uri": "https://localhost:8080/"
    },
    "executionInfo": {
     "elapsed": 12,
     "status": "ok",
     "timestamp": 1726484156121,
     "user": {
      "displayName": "j j",
      "userId": "04909968638014779184"
     },
     "user_tz": -540
    },
    "id": "TVpxWoYyxbzr",
    "outputId": "4b6af2d1-8263-4275-c90e-670df2e85878"
   },
   "outputs": [
    {
     "data": {
      "text/plain": [
       "('유럽 여행을 더 싸게! 여름 투어 패키지 프로모션 세일 중 🌍☀️',\n",
       " '<br/>안녕하세요,<br/><br/>여름 투어 시즌이 다가오고 있습니다! 당신의 꿈꾸던 유럽 여행, 이제 더 싸게 즐기세요! 유럽 여행사와 함께하는 여름 투어 패키지 프로모션 세일이 시작되었습니다.<br/><br/>이번 여행은 특별합니다. 세계 유명 도시를 투어할 수 있는 기회를 절대 놓치지 마세요. 투어 패키지 예약 시 특별 할인 혜택을 누리실 수 있습니다.<br/><br/>프로모션 세일 기간: 6월 1일부터 6월 30일까지<br/>대상 여행 지역: 프랑스, 이탈리아, 스페인, 독일 등<br/>할인 혜택: 최대 20% 할인 및 추가 혜택 제공<br/><br/>당신을 위한 최고의 여름 휴가를 계획하세요! 지금 바로 예약하시면 더 많은 혜택을 누리실 수 있습니다.<br/><br/>자세한 정보 및 예약은 아래 링크를 확인해주세요.<br/><br/>링크: www.europeantourpackages.com/summer-promo<br/><br/>이번 여름, 유럽 여행이 더욱 특별해질 것입니다. 지금 예약하세요!<br/><br/>감사합니다.<br/><br/>유럽 여행사 드림<br/><br/>---<br/>이 이메일은 광고성 내용을 포함하고 있습니다. 혹시 더 이상 이메일을 받고 싶지 않으시다면 수신 거부를 눌러주시길 바랍니다.')"
      ]
     },
     "execution_count": 4,
     "metadata": {},
     "output_type": "execute_result"
    }
   ],
   "source": [
    "splited = email_txt.split('\\n')\n",
    "\n",
    "email_title = splited[0].split('제목: ')[1]\n",
    "email_body = '<br/>'.join(splited[1:])\n",
    "\n",
    "email_title, email_body"
   ]
  },
  {
   "cell_type": "code",
   "execution_count": null,
   "metadata": {
    "colab": {
     "base_uri": "https://localhost:8080/",
     "height": 1000
    },
    "executionInfo": {
     "elapsed": 12143,
     "status": "ok",
     "timestamp": 1726484168253,
     "user": {
      "displayName": "j j",
      "userId": "04909968638014779184"
     },
     "user_tz": -540
    },
    "id": "Q3Dp81zOR7On",
    "outputId": "faaa0a8a-776b-4a00-aa70-4b671ef0844d"
   },
   "outputs": [
    {
     "name": "stdout",
     "output_type": "stream",
     "text": [
      "\n",
      "생성된 이미지:\n",
      "\n"
     ]
    },
    {
     "data": {
      "text/html": [
       "<img src=\"https://oaidalleapiprodscus.blob.core.windows.net/private/org-hQO4blUwssZE0zuGIVEgKWAJ/user-vOxcRBfFcLRpFIvSKC0trnBj/img-qS5EmaCsfhRS3kHMBBOIQoyi.png?st=2024-09-16T09%3A56%3A07Z&se=2024-09-16T11%3A56%3A07Z&sp=r&sv=2024-08-04&sr=b&rscd=inline&rsct=image/png&skoid=d505667d-d6c1-4a0a-bac7-5c84a87759f8&sktid=a48cca56-e6da-484e-a814-9c849652bcb3&skt=2024-09-15T23%3A32%3A11Z&ske=2024-09-16T23%3A32%3A11Z&sks=b&skv=2024-08-04&sig=FJsnCtqNopQdLzT9i8Fp/ZLUJH1jNNtbdQ/3iHabgac%3D\"/>"
      ],
      "text/plain": [
       "<IPython.core.display.Image object>"
      ]
     },
     "metadata": {},
     "output_type": "display_data"
    }
   ],
   "source": [
    "\n",
    "# DALL·E를 사용해 이미지 생성\n",
    "def generate_email_image(prompt):\n",
    "    response = client.images.generate(\n",
    "        model=\"dall-e-3\",\n",
    "        prompt=prompt,\n",
    "        n=1,\n",
    "        size=\"1024x1024\"  # 이미지 크기 설정\n",
    "    )\n",
    "    return response\n",
    "\n",
    "image_obj = generate_email_image('''\n",
    "유럽 투어 패키지 상품 홍보를 위한 홍보 이미지를 만들어줘.\n",
    "북유럽의 대표 관광지 사진들이 함께 어우러져 있고, 행복한 웃음을 띈 배낭을 멘 작은 크기의 젊은 남녀가 관광지들을 바라보고 있어.\n",
    "관광지들의 사진을 더 비중있게 보여줘. 일러스트 느낌이 나게 만들어줘\n",
    "''')\n",
    "image_url = image_obj.data[0].url\n",
    "\n",
    "print(\"\\n생성된 이미지:\\n\")\n",
    "display(Image(url=image_url))\n"
   ]
  },
  {
   "cell_type": "code",
   "execution_count": null,
   "metadata": {
    "colab": {
     "base_uri": "https://localhost:8080/",
     "height": 1000
    },
    "executionInfo": {
     "elapsed": 584,
     "status": "ok",
     "timestamp": 1726484595785,
     "user": {
      "displayName": "j j",
      "userId": "04909968638014779184"
     },
     "user_tz": -540
    },
    "id": "HvEO2pN3W7hV",
    "outputId": "a967c46e-36f7-4f35-a110-ca156ed33871"
   },
   "outputs": [
    {
     "data": {
      "text/html": [
       "\n",
       "<table align=\"center\" border=\"0\" cellpadding=\"0\" cellspacing=\"0\" width=\"100%\" style=\"text-align: center; font-family: Arial, sans-serif;\">\n",
       "    <tr>\n",
       "        <td>\n",
       "            <img src=\"https://oaidalleapiprodscus.blob.core.windows.net/private/org-hQO4blUwssZE0zuGIVEgKWAJ/user-vOxcRBfFcLRpFIvSKC0trnBj/img-qS5EmaCsfhRS3kHMBBOIQoyi.png?st=2024-09-16T09%3A56%3A07Z&se=2024-09-16T11%3A56%3A07Z&sp=r&sv=2024-08-04&sr=b&rscd=inline&rsct=image/png&skoid=d505667d-d6c1-4a0a-bac7-5c84a87759f8&sktid=a48cca56-e6da-484e-a814-9c849652bcb3&skt=2024-09-15T23%3A32%3A11Z&ske=2024-09-16T23%3A32%3A11Z&sks=b&skv=2024-08-04&sig=FJsnCtqNopQdLzT9i8Fp/ZLUJH1jNNtbdQ/3iHabgac%3D\" alt=\"유럽 투어 홍보 이미지\" style=\"width: 50%; height: auto;\"/>\n",
       "        </td>\n",
       "    </tr>\n",
       "    <tr>\n",
       "        <td>\n",
       "            <a href=\"https://27d0-35-233-128-152.ngrok-free.app/click\" target=\"_blank\" style=\"text-decoration: none;\">\n",
       "                <button style=\"\n",
       "                    width: 40%;\n",
       "                    padding: 10px 20px;\n",
       "                    font-size: 24px;\n",
       "                    cursor: pointer;\n",
       "                    background-color: #4CAF50;\n",
       "                    color: white;\n",
       "                    border: none;\n",
       "                    border-radius: 5px;\n",
       "                    margin-top: 20px;\">\n",
       "                    지금 예약하기\n",
       "                </button>\n",
       "            </a>\n",
       "        </td>\n",
       "    </tr>\n",
       "    <tr>\n",
       "        <td style=\"padding-top: 20px; font-size: 18px; text-align: left;\">\n",
       "            <br/>안녕하세요,<br/><br/>여름 투어 시즌이 다가오고 있습니다! 당신의 꿈꾸던 유럽 여행, 이제 더 싸게 즐기세요! 유럽 여행사와 함께하는 여름 투어 패키지 프로모션 세일이 시작되었습니다.<br/><br/>이번 여행은 특별합니다. 세계 유명 도시를 투어할 수 있는 기회를 절대 놓치지 마세요. 투어 패키지 예약 시 특별 할인 혜택을 누리실 수 있습니다.<br/><br/>프로모션 세일 기간: 6월 1일부터 6월 30일까지<br/>대상 여행 지역: 프랑스, 이탈리아, 스페인, 독일 등<br/>할인 혜택: 최대 20% 할인 및 추가 혜택 제공<br/><br/>당신을 위한 최고의 여름 휴가를 계획하세요! 지금 바로 예약하시면 더 많은 혜택을 누리실 수 있습니다.<br/><br/>자세한 정보 및 예약은 아래 링크를 확인해주세요.<br/><br/>링크: www.europeantourpackages.com/summer-promo<br/><br/>이번 여름, 유럽 여행이 더욱 특별해질 것입니다. 지금 예약하세요!<br/><br/>감사합니다.<br/><br/>유럽 여행사 드림<br/><br/>---<br/>이 이메일은 광고성 내용을 포함하고 있습니다. 혹시 더 이상 이메일을 받고 싶지 않으시다면 수신 거부를 눌러주시길 바랍니다.\n",
       "        </td>\n",
       "    </tr>\n",
       "    <tr>\n",
       "        <td>\n",
       "            <!-- Tracking pixel for email open -->\n",
       "            <img src=\"https://27d0-35-233-128-152.ngrok-free.app/open\" alt=\"\" style=\"display:none;width:1px;height:1px;\">\n",
       "        </td>\n",
       "    </td>\n",
       "</table>\n"
      ],
      "text/plain": [
       "<IPython.core.display.HTML object>"
      ]
     },
     "metadata": {},
     "output_type": "display_data"
    }
   ],
   "source": [
    "email_text = f'''\n",
    "<table align=\"center\" border=\"0\" cellpadding=\"0\" cellspacing=\"0\" width=\"100%\" style=\"text-align: center; font-family: Arial, sans-serif;\">\n",
    "    <tr>\n",
    "        <td>\n",
    "            <img src=\"{image_url}\" alt=\"유럽 투어 홍보 이미지\" style=\"width: 50%; height: auto;\"/>\n",
    "        </td>\n",
    "    </tr>\n",
    "    <tr>\n",
    "        <td>\n",
    "            <a href=\"https://27d0-35-233-128-152.ngrok-free.app/click\" target=\"_blank\" style=\"text-decoration: none;\">\n",
    "                <button style=\"\n",
    "                    width: 40%;\n",
    "                    padding: 10px 20px;\n",
    "                    font-size: 24px;\n",
    "                    cursor: pointer;\n",
    "                    background-color: #4CAF50;\n",
    "                    color: white;\n",
    "                    border: none;\n",
    "                    border-radius: 5px;\n",
    "                    margin-top: 20px;\">\n",
    "                    지금 예약하기\n",
    "                </button>\n",
    "            </a>\n",
    "        </td>\n",
    "    </tr>\n",
    "    <tr>\n",
    "        <td style=\"padding-top: 20px; font-size: 18px; text-align: left;\">\n",
    "            {email_body}\n",
    "        </td>\n",
    "    </tr>\n",
    "    <tr>\n",
    "        <td>\n",
    "            <!-- Tracking pixel for email open -->\n",
    "            <img src=\"https://27d0-35-233-128-152.ngrok-free.app/open\" alt=\"\" style=\"display:none;width:1px;height:1px;\">\n",
    "        </td>\n",
    "    </td>\n",
    "</table>\n",
    "'''\n",
    "\n",
    "# HTML을 출력하여 이미지와 버튼, 텍스트 표시\n",
    "display(HTML(email_text))\n"
   ]
  },
  {
   "cell_type": "code",
   "execution_count": null,
   "metadata": {
    "id": "yRXbF5bsVnn_"
   },
   "outputs": [],
   "source": [
    "# 이메일 정보 설정\n",
    "# 만약 구글 smtp를 사용하고 싶다면, 본인 계정 설정으로 들어가서\n",
    "# 2단계 인증을 설정한 후, 상단 검색창에 '앱비밀번호' 검색 및 메뉴에 들어가\n",
    "# 앱 비밀번호를 확인한 후 아래 password 변수에 넣어야 한다(계정의 비번과 별개)\n",
    "subject = email_title\n",
    "sender = \"user@gmail.com\"\n",
    "recipient = \"user@gmail.com\"\n",
    "SMTP_SERVER = \"smtp.gmail.com\"\n",
    "smtp_port = 587\n",
    "username = \"user@gmail.com\"\n",
    "password = \"xqre zeux tqzt xgpy\""
   ]
  },
  {
   "cell_type": "code",
   "execution_count": null,
   "metadata": {
    "colab": {
     "base_uri": "https://localhost:8080/"
    },
    "executionInfo": {
     "elapsed": 518,
     "status": "ok",
     "timestamp": 1726484596799,
     "user": {
      "displayName": "j j",
      "userId": "04909968638014779184"
     },
     "user_tz": -540
    },
    "id": "kDIkj-CJd0jF",
    "outputId": "8f3f660a-dae7-458f-c6b9-b3c328f19634"
   },
   "outputs": [
    {
     "name": "stdout",
     "output_type": "stream",
     "text": [
      "이메일 전송 성공\n"
     ]
    }
   ],
   "source": [
    "msg = MIMEMultipart(\"alternative\")\n",
    "msg[\"From\"] = sender\n",
    "msg[\"To\"] = recipient\n",
    "msg[\"Subject\"] = subject\n",
    "\n",
    "# HTML 본문 추가\n",
    "msg.attach(MIMEText(email_text, \"html\"))\n",
    "\n",
    "# 이메일 전송\n",
    "try:\n",
    "    server = smtplib.SMTP(SMTP_SERVER, smtp_port)\n",
    "    server.starttls()  # TLS 시작\n",
    "    server.login(username, password)\n",
    "    server.sendmail(sender, recipient, msg.as_string())\n",
    "    server.quit()\n",
    "    print(\"이메일 전송 성공\")\n",
    "except Exception as e:\n",
    "    print(f\"이메일 전송 실패: {e}\")"
   ]
  },
  {
   "cell_type": "markdown",
   "metadata": {
    "id": "xdXPdiOrj5Dp"
   },
   "source": []
  }
 ],
 "metadata": {
  "colab": {
   "authorship_tag": "ABX9TyOD9BfoaCCZD4A46u70SxHY",
   "provenance": []
  },
  "kernelspec": {
   "display_name": "Python 3",
   "name": "python3"
  },
  "language_info": {
   "name": "python"
  }
 },
 "nbformat": 4,
 "nbformat_minor": 0
}
